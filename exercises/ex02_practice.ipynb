{
 "cells": [
  {
   "attachments": {
    "image.png": {
     "image/png": "[encoded data removed]"
    }
   },
   "cell_type": "markdown",
   "id": "27072d5e",
   "metadata": {},
   "source": [
    "![image.png](attachment:image.png)"
   ]
  },
  {
   "cell_type": "markdown",
   "id": "e04e18d1",
   "metadata": {},
   "source": [
    "# Exercise 2: Introduction to Python\n",
    "\n",
    "This exercise is **not graded**, but I encourage you to pass it in order to receive your project assignments"
   ]
  },
  {
   "cell_type": "markdown",
   "id": "be4b3bbc",
   "metadata": {},
   "source": [
    "P.S You can edit this file any way you like, but please do not change the general structure\n",
    "\n",
    "Here is a short [list of Markdown commands for editing text](https://github.com/adam-p/markdown-here/wiki/Markdown-Cheatsheet)."
   ]
  },
  {
   "cell_type": "markdown",
   "id": "7d17471a",
   "metadata": {},
   "source": [
    "**Important:** Try to use the documentation and Google for specific Python syntax. Avoid searching for ready-to-use solutions, as this may hinder your long-term learning."
   ]
  },
  {
   "cell_type": "markdown",
   "id": "62689ec8",
   "metadata": {},
   "source": [
    "## Input and Output in Python "
   ]
  },
  {
   "cell_type": "markdown",
   "id": "d28b6c2a",
   "metadata": {},
   "source": [
    "## Part 1: syntax "
   ]
  },
  {
   "cell_type": "markdown",
   "id": "b8ff7e85",
   "metadata": {},
   "source": [
    "Just replace @@@s with a necessary code and try to check various test cases."
   ]
  },
  {
   "cell_type": "markdown",
   "id": "8a7bfc2e",
   "metadata": {},
   "source": [
    "### Problem 1.1: Hello World! \n",
    "\n",
    "Just a quick recap"
   ]
  },
  {
   "cell_type": "markdown",
   "id": "027107dc",
   "metadata": {},
   "source": [
    "Write a code hat asks one's name and returns: \"Hello, %username%\""
   ]
  },
  {
   "cell_type": "code",
   "execution_count": null,
   "id": "a325c2fe",
   "metadata": {},
   "outputs": [],
   "source": [
    "@@@"
   ]
  },
  {
   "cell_type": "markdown",
   "id": "29710f9d",
   "metadata": {},
   "source": [
    "Test:\n",
    "\n",
    "Input:\n",
    "\n",
    "Alif Academy\n",
    "\n",
    "Output: \n",
    "    \n",
    "What is your name?\n",
    "\n",
    "Hello, Alif Academy"
   ]
  },
  {
   "cell_type": "markdown",
   "id": "ab89d53b",
   "metadata": {},
   "source": [
    "### Problem 1.2: N repetitions\n",
    "\n",
    "Write a code that receives some natural N and a random pharase to return N lines of that piece of text."
   ]
  },
  {
   "cell_type": "code",
   "execution_count": null,
   "id": "944ffafb",
   "metadata": {},
   "outputs": [],
   "source": [
    "@@@"
   ]
  },
  {
   "attachments": {},
   "cell_type": "markdown",
   "id": "45d5607b",
   "metadata": {},
   "source": [
    "Test:\n",
    "\n",
    "Input:\n",
    "\n",
    "10\n",
    "\n",
    "hey\n",
    "\n",
    "Output: \n",
    "\n",
    "hey\n",
    "\n",
    "hey\n",
    "\n",
    "hey\n",
    "\n",
    "hey\n",
    "\n",
    "hey\n",
    "\n",
    "hey\n",
    "\n",
    "hey\n",
    "\n",
    "hey\n",
    "\n",
    "hey\n",
    "\n",
    "hey\n"
   ]
  },
  {
   "cell_type": "markdown",
   "id": "b8755d41",
   "metadata": {},
   "source": [
    "### Problem 2: Your First Receipt"
   ]
  },
  {
   "cell_type": "markdown",
   "id": "ca8c786b",
   "metadata": {},
   "source": [
    "**Task**\n",
    "\n",
    "Write a code that prints nice grocery receipts.\n",
    "\n",
    "**Input Format:**\n",
    "\n",
    "* product name;\n",
    "* product price;\n",
    "* weight;\n",
    "* consumer's budget;\n",
    "\n",
    "**Output Format:** \n",
    "\n",
    "Your Receipt\n",
    "(product name) - (weight)kg - (product price) soums/kg\n",
    "\n",
    "Overall: (total price) soums\n",
    "\n",
    "Paid: (to be paid) soums\n",
    "\n",
    "Your change: (consumer's budget) soums"
   ]
  },
  {
   "cell_type": "code",
   "execution_count": null,
   "id": "dad47f15",
   "metadata": {},
   "outputs": [],
   "source": [
    "@@@"
   ]
  },
  {
   "cell_type": "markdown",
   "id": "b40d950b",
   "metadata": {},
   "source": [
    "Test:\n",
    "\n",
    "Input:\n",
    "\n",
    "cherry\n",
    "\n",
    "2\n",
    "\n",
    "3\n",
    "\n",
    "10\n",
    "\n",
    "Output: \n",
    "    \n",
    "Your Receipt\n",
    "\n",
    "cherry - 3 kg - 2 soums/kg\n",
    "\n",
    "Overall: 6 soums\n",
    "    \n",
    "Paid: 10 soums\n",
    "\n",
    "Your change: 4 soums"
   ]
  },
  {
   "cell_type": "markdown",
   "id": "3b4b462f",
   "metadata": {},
   "source": [
    "### Problem 3: Kids and Apples"
   ]
  },
  {
   "cell_type": "markdown",
   "id": "3b60b601",
   "metadata": {},
   "source": [
    "**Task**\n",
    "\n",
    "In a kindergarten, 2 children eat 2 pieces of apple in 2 minutes. How many pieces of apple willN children eat in M minutes?\n",
    "\n",
    "**Input Format:**\n",
    "\n",
    "The first line contains a natural number\n",
    "N≥1\n",
    "\n",
    "The second line contains a natural number\n",
    "M≥1\n",
    "\n",
    "**Output Format:**\n",
    "\n",
    "One natural number - the number of pieces of sausage eaten by the children."
   ]
  },
  {
   "cell_type": "code",
   "execution_count": null,
   "id": "b187e9d9",
   "metadata": {},
   "outputs": [],
   "source": [
    "@@@"
   ]
  },
  {
   "cell_type": "markdown",
   "id": "c0a5c471",
   "metadata": {},
   "source": [
    "Test:\n",
    "\n",
    "Input:\n",
    "\n",
    "10\n",
    "\n",
    "10\n",
    "\n",
    "Output: \n",
    "    \n",
    "50"
   ]
  },
  {
   "cell_type": "markdown",
   "id": "93237a0c",
   "metadata": {},
   "source": [
    "### Problem 4: Hours and Minutes"
   ]
  },
  {
   "cell_type": "markdown",
   "id": "a07be1df",
   "metadata": {},
   "source": [
    "Given a number n. From the beginning of the day, n minutes have passed. Determine how many hours and minutes the digital clock will display at this moment. The program should output two numbers: the number of hours (from 0 to 23) and the number of minutes (from 0 to 59). Note that the number n can be greater than the number of minutes in a day."
   ]
  },
  {
   "cell_type": "code",
   "execution_count": null,
   "id": "73781f99",
   "metadata": {},
   "outputs": [],
   "source": [
    "@@@"
   ]
  },
  {
   "cell_type": "markdown",
   "id": "cabd6ae0",
   "metadata": {},
   "source": [
    "Test:\n",
    "\n",
    "Input:\n",
    "\n",
    "150\n",
    "\n",
    "Output: \n",
    "    \n",
    "2 30"
   ]
  },
  {
   "cell_type": "markdown",
   "id": "2f4f3a47",
   "metadata": {},
   "source": [
    "### Problem 5: Delivery Time"
   ]
  },
  {
   "cell_type": "markdown",
   "id": "3fc18df8",
   "metadata": {},
   "source": [
    "Sure, here's the task translated into English:\n",
    "\n",
    "**Task:**\n",
    "\n",
    "Today, at \n",
    "**N** hours and \n",
    "**M** minutes, the store owner ordered the delivery of a new product. The operator said that the products would be delivered in \n",
    "**T** minutes. What time will it be on the electronic clock when the long-awaited products arrive?\n",
    "\n",
    "**Input Format:**\n",
    "\n",
    "- The first line contains a natural number \n",
    "$N$ $(0 ≤ N < 24)$.\n",
    "- The second line contains a natural number \n",
    "$M$ $(0 ≤ M < 60)$.\n",
    "- The third line contains a natural number \n",
    "$T$ $(30 ≤ T < 10^9)$.\n",
    "\n",
    "**Output Format:**\n",
    "\n",
    "- One line representing the time on the electronic clock."
   ]
  },
  {
   "cell_type": "code",
   "execution_count": null,
   "id": "a3a1ba4b",
   "metadata": {},
   "outputs": [],
   "source": [
    "@@@"
   ]
  },
  {
   "cell_type": "markdown",
   "id": "774df866",
   "metadata": {},
   "source": [
    "Test\n",
    "\n",
    "Input: \n",
    "\n",
    "10 \n",
    "\n",
    "15 \n",
    "\n",
    "2752 \n",
    "\n",
    "Output: \n",
    "\n",
    "08:07"
   ]
  },
  {
   "cell_type": "markdown",
   "id": "15aa3868",
   "metadata": {},
   "source": [
    "## Part 2: basic financial applications of input and output"
   ]
  },
  {
   "cell_type": "markdown",
   "id": "6ae236fa",
   "metadata": {},
   "source": [
    "In this part of our homework we will go beyond basic Future Value (FV) of a compounding interest investment to calculate FV, Present Value (PV) and Cash Flow per period (C) of an [Ordinary Annuity](https://www.investopedia.com/retirement/calculating-present-and-future-value-of-annuities/).\n",
    "\n",
    "Read about an Ordinary Annuity following the link above.\n",
    "\n",
    "We will cover functions in the upcoming lessons, but I encourage you to use the Python documentation and reputable sources of information, such as Real Python, w3schools, tutorialspoint, geeksforgeeks and etc."
   ]
  },
  {
   "cell_type": "markdown",
   "id": "43c0e972",
   "metadata": {},
   "source": [
    "### Problem 1:  $FV_{ordinary}$"
   ]
  },
  {
   "cell_type": "markdown",
   "id": "2a13702f",
   "metadata": {},
   "source": [
    "Write a function fv_annuity(r, n, C) to calculate and return the future value of an annuity of pmt to be received each period for n periods, invested at the periodic rate r. Recall the equation for the future value of an annuity is:\n",
    "\n",
    "$$FV_{ordinary} = C\\cdot\\left(\\frac{(1+r)^n - 1}{r}\\right)$$\n",
    "\n",
    "\n",
    "$C$ = cash flow per period\n",
    "\n",
    "$r$ = interest rate\n",
    "\n",
    "$n$ = number of payments\n",
    "\n",
    ">Try to use input() for variable assigmnent and string formatting to create nicely readable outputs the way we did during the on-site class."
   ]
  },
  {
   "cell_type": "markdown",
   "id": "f4662332",
   "metadata": {},
   "source": [
    "Just replace @@@s with a necessary code and try to check create various test cases. Your solutions should at least correspond to the given test examples (including a float precision)."
   ]
  },
  {
   "cell_type": "code",
   "execution_count": null,
   "id": "cc5d23c6",
   "metadata": {},
   "outputs": [],
   "source": [
    "def fv_annuity(r, n, C):\n",
    "    \"\"\"\n",
    "    Calculate the future value of an annuity.\n",
    "\n",
    "    Args:\n",
    "    r (float): Periodic interest rate.\n",
    "    n (int): Number of periods.\n",
    "    C (float): Payment amount per period.\n",
    "\n",
    "    Returns:\n",
    "    float: Future value of the annuity.\n",
    "    \"\"\"\n",
    "    fv = @@@\n",
    "    \n",
    "    return fv"
   ]
  },
  {
   "cell_type": "code",
   "execution_count": null,
   "id": "5a8f7615",
   "metadata": {},
   "outputs": [],
   "source": [
    "r = @@@\n",
    "n = @@@\n",
    "C = @@@\n",
    "future_value = @@@\n",
    "print(@@@)"
   ]
  },
  {
   "cell_type": "markdown",
   "id": "401106f6",
   "metadata": {},
   "source": [
    "**Test:**\n",
    "\n",
    "*Input:*\n",
    "\n",
    "r = 0.05  # Periodic interest rate (5%)\n",
    "\n",
    "n = 10    # Number of periods\n",
    "\n",
    "C = 1000  # Payment amount per period\n",
    "\n",
    "*Output:*\n",
    "\n",
    "The future value of the annuity is: 12577.89"
   ]
  },
  {
   "cell_type": "markdown",
   "id": "5881bdf8",
   "metadata": {},
   "source": [
    ">By *Output* I mean a code cell result in general."
   ]
  },
  {
   "cell_type": "markdown",
   "id": "33d1d294",
   "metadata": {},
   "source": [
    "### Problem 2: $PV_{ordinary}$"
   ]
  },
  {
   "cell_type": "markdown",
   "id": "ae08a5d9",
   "metadata": {},
   "source": [
    "Write a function pv_annuity(r, n, C) to calculate and return the present value of an annuity of pmt to be received each period for n periods, discounted at the rate r. Recall the equation for the present value of an annuity is:\n",
    "\n",
    "$$PV_{ordinary} = C\\cdot\\left(\\frac{1 - (1+r)^{-n}}{r}\\right)$$\n"
   ]
  },
  {
   "cell_type": "code",
   "execution_count": null,
   "id": "e4f6d622",
   "metadata": {},
   "outputs": [],
   "source": [
    "def pv_annuity(r, n, C):\n",
    "    \"\"\"\n",
    "    Calculate the present value of an annuity.\n",
    "\n",
    "    Args:\n",
    "    r (float): Discount rate per period.\n",
    "    n (int): Number of periods.\n",
    "    C (float): Payment amount per period.\n",
    "\n",
    "    Returns:\n",
    "    float: Present value of the annuity.\n",
    "    \"\"\"\n",
    "    pv = @@@\n",
    "    \n",
    "    return pv"
   ]
  },
  {
   "cell_type": "code",
   "execution_count": null,
   "id": "3a8082fc",
   "metadata": {},
   "outputs": [],
   "source": [
    "r = @@@\n",
    "n = @@@\n",
    "C = @@@\n",
    "present_value = @@@\n",
    "print(@@@)"
   ]
  },
  {
   "cell_type": "markdown",
   "id": "7f33db79",
   "metadata": {},
   "source": [
    "### Problem 3: $C_{ordinary}$"
   ]
  },
  {
   "cell_type": "markdown",
   "id": "9ba4d53a",
   "metadata": {},
   "source": [
    "Write a function annuity_payment(r, n, pv) that calculates the amortizing annuity\n",
    "payment for a present value of pv to be repaid at a periodic interest rate of r for n periods. Recall the equation for the amortizing annuity payment is:\n",
    "\n",
    "$$ C_{ordinary}  = \\frac{r \\cdot PV}{1 - (1+r)^{-n}} $$"
   ]
  },
  {
   "cell_type": "markdown",
   "id": "a782c087",
   "metadata": {},
   "source": [
    "Try to code everything by yourself :)"
   ]
  },
  {
   "cell_type": "code",
   "execution_count": null,
   "id": "7d321997",
   "metadata": {},
   "outputs": [],
   "source": [
    "@@@"
   ]
  },
  {
   "cell_type": "code",
   "execution_count": null,
   "id": "023857e1",
   "metadata": {},
   "outputs": [],
   "source": [
    "@@@"
   ]
  },
  {
   "cell_type": "markdown",
   "id": "c6bff869",
   "metadata": {},
   "source": [
    "**Test**\n",
    "\n",
    "*Input*\n",
    "\n",
    "r = 0.05  # Periodic interest rate (5%)\n",
    "n = 10    # Number of periods\n",
    "pv = 10000  # Present value to be repaid\n",
    "\n",
    "*Output*\n",
    "\n",
    "The amortizing annuity payment is:  1295.05\n"
   ]
  }
 ],
 "metadata": {
  "kernelspec": {
   "display_name": "Python 3 (ipykernel)",
   "language": "python",
   "name": "python3"
  },
  "language_info": {
   "codemirror_mode": {
    "name": "ipython",
    "version": 3
   },
   "file_extension": ".py",
   "mimetype": "text/x-python",
   "name": "python",
   "nbconvert_exporter": "python",
   "pygments_lexer": "ipython3",
   "version": "3.9.13"
  }
 },
 "nbformat": 4,
 "nbformat_minor": 5
}
